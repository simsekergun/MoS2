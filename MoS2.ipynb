{
  "nbformat": 4,
  "nbformat_minor": 0,
  "metadata": {
    "colab": {
      "name": "MoS2.ipynb",
      "provenance": [],
      "collapsed_sections": [],
      "authorship_tag": "ABX9TyNuGl/V5HgESnNJNQEGhijl",
      "include_colab_link": true
    },
    "kernelspec": {
      "name": "python3",
      "display_name": "Python 3"
    },
    "language_info": {
      "name": "python"
    }
  },
  "cells": [
    {
      "cell_type": "markdown",
      "metadata": {
        "id": "view-in-github",
        "colab_type": "text"
      },
      "source": [
        "<a href=\"https://colab.research.google.com/github/simsekergun/MoS2/blob/main/MoS2.ipynb\" target=\"_parent\"><img src=\"https://colab.research.google.com/assets/colab-badge.svg\" alt=\"Open In Colab\"/></a>"
      ]
    },
    {
      "cell_type": "markdown",
      "source": [
        "## Complex Electrical Permittivity of Monolayer MoS<sub>2</sub>\n",
        "This notebook calculates the refractive index and/or complex electrical permittivity and/or conductivity of monolayer MoS2 as functions of wavelength (m), Fermi Energy level (eV), and temperature (K), in the visible and near-infrared parts of the electromagnetic spectrum (400 nm - 1.2 um)\n",
        "\n",
        "If you use this code or its [MATLAB version](https://github.com/simsekergun/MoS2/blob/main/getMoS2epsnk.m), please cite the following reference.\n",
        "\n",
        "B. Mukherjee, F. Tseng, D. Gunlycke, K. K. Amara, G. Eda, and E. Simsek, \"Complex electrical permittivity of the monolayer molybdenum disulfide (MoS2) in near UV and visible,\" Optical Materials Express, vol. 5, no. 2, pp. 447-455 (2015). [Download](https://www.csee.umbc.edu/~simsek/journal_papers/j30_sci_rep.pdf)"
      ],
      "metadata": {
        "id": "z3N7RSNtTUY-"
      }
    },
    {
      "cell_type": "code",
      "execution_count": 1,
      "metadata": {
        "id": "p5Lz9R5VTAh-"
      },
      "outputs": [],
      "source": [
        "def getMoS2epsnk(wavelength = 600e-9,Ef = 0.0,Temp = 300): \n",
        "    import numpy as np\n",
        "    a = np.array([200890.0,57534.0,81496.0,82293.0,331300.0,4390600.0,0.010853,0.059099,0.11302,0.11957,0.28322,0.78515,23.224,2.7982,0.30893])\n",
        "    NX = 6   # number of lorentzians\n",
        "    xd = wavelength * 1000000000.0\n",
        "    Esall = get_eigens_mos2(0,Temp,NX)\n",
        "    Esa = np.append(Esall[0:NX-2],4.34)\n",
        "    Esa = np.insert(Esa,0,0.0)\n",
        "    b = a2b(a,Ef,Temp)\n",
        "    wavelength = np.asarray(wavelength)\n",
        "    if wavelength.size ==1:\n",
        "       eps = getepsEfsingle(b,Esa,Ef,Temp,wavelength,6)\n",
        "    else:  \n",
        "       eps = np.zeros(len(wavelength),dtype=np.complex)\n",
        "       for ii in np.arange(len(wavelength)):              \n",
        "          eps[ii] = getepsEfsingle(b,Esa,Ef,Temp,wavelength[ii],6)\n",
        "    \n",
        "    return eps\n",
        "    ##########################################################################\n",
        "    \n",
        "def getepsEfsingle(params = None,Esas = None,Ef = None,Temp = None,xdata = None,nn = None): \n",
        "    import numpy as np\n",
        "    from numpy import pi\n",
        "    ehbar = 1519250349719305.0\n",
        "    omegap = 0.0046075 * ehbar\n",
        "    fs = params[0:nn].reshape(-1)\n",
        "    gs = params[nn:2*nn].reshape(-1)* ehbar\n",
        "    os = Esas * ehbar\n",
        "    EeV = 1.24e-06 / xdata\n",
        "    kbT = 8.621738e-05 * Temp\n",
        "    d = np.exp(- (2 * Ef - kbT) ** 2 / 2 * 300)\n",
        "    a_s = params[2 * nn]\n",
        "    b_s = params[2 * nn + 1]\n",
        "    c_s = params[2 * nn + 2]\n",
        "    epsgi = a_s * np.exp(- (EeV - b_s + kbT) ** 2 / 2 / c_s ** 2)\n",
        "    oml = 1883651567.308853 * (xdata ** (- 1))\n",
        "    epsmos2 = 4.44+0j\n",
        "    for mm in np.arange(nn):\n",
        "        epsmos2 = epsmos2 + fs[mm]*(omegap ** 2.0) * (os[mm] ** 2 - oml ** 2 - 1j * gs[mm]*oml) ** (- 1)\n",
        "    \n",
        "    epsmos2 = epsmos2 + 1j * epsgi\n",
        "    EeVi = np.array([np.linspace(- 100.0,EeV - 0.01,20000),np.linspace(EeV + 0.01,100,20000)])\n",
        "    epsi = a_s * np.exp(- (EeVi - b_s + kbT) ** 2 / 2 / c_s ** 2)\n",
        "    carp = np.trapz((EeVi*epsi/(EeVi ** 2 - EeV ** 2)).reshape(-1),EeVi.reshape(-1))\n",
        "    epsr = carp / pi\n",
        "    \n",
        "    epsmos2 = epsmos2 + epsr\n",
        "    return epsmos2\n",
        "    ##########################################################################\n",
        "    \n",
        "def a2b(a = None,Ef = None,Temp = None): \n",
        "    import numpy as np\n",
        "    kbT = 8.621738e-05 * Temp\n",
        "    ddd = np.exp(- (2 * Ef - kbT)** 2 / (8.621738e-05 * 300))\n",
        "    b = a\n",
        "    b[1] = b[1] * (ddd**4)\n",
        "    b[2] = b[2] * ddd\n",
        "    b[3] = b[3] * ddd\n",
        "    b[4] = b[4] * ddd\n",
        "    b[7] = b[7] / ddd\n",
        "    b[8] = b[8] / ddd\n",
        "    b[9] = b[9] / ddd\n",
        "    b[10] = b[10] / ddd\n",
        "    return b\n",
        "    ##########################################################################\n",
        "    \n",
        "def convertV2Ef(Vg = None): \n",
        "    import numpy as np\n",
        "    from numpy import pi    \n",
        "    hbar_eVs = 6.5821192815e-16    \n",
        "    e_mass = 9.10938188e-31    \n",
        "    Cg = 0.00012\n",
        "    \n",
        "    Ef = hbar_eVs ** 2 * pi * Cg * (Vg + 107) / (2 * 0.35 * e_mass)\n",
        "    return Ef\n",
        "    ##########################################################################\n",
        "    \n",
        "def eps2nk(eps_mat = None): \n",
        "    import numpy as np\n",
        "    r_mat = np.real(eps_mat)\n",
        "    i_mat = np.imag(eps_mat)\n",
        "    n = np.sqrt(0.5 * (np.sqrt(r_mat ** 2 + i_mat ** 2) + r_mat))\n",
        "    k = np.sqrt(0.5 * (np.sqrt(r_mat ** 2 + i_mat ** 2) - r_mat))\n",
        "    return n, k\n",
        "    ##########################################################################\n",
        "    \n",
        "def get_eigens_mos2(Ef = None,Temp = None,NX = None): \n",
        "    import numpy as np\n",
        "    from numpy import pi\n",
        "    from scipy.linalg import block_diag\n",
        "    from numpy import linalg as LA\n",
        "    from scipy.spatial import Delaunay\n",
        "    # Constants\n",
        "    hbar = 1.05457172647e-34    \n",
        "    e_c = 1.60217656535e-19\n",
        "    c = 299792458.0\n",
        "    e_mass = 9.10938188e-31\n",
        "    eps0 = 8.854187817e-12    \n",
        "    mu0 = 4e-07 * np.pi    \n",
        "    a0 = 4 * np.pi * eps0 * hbar ** 2 / e_mass / e_c ** 2    \n",
        "    Ry = 13.605692533    \n",
        "    #__________________________ Variables __________________________________\n",
        "    m = e_mass * 0.32    \n",
        "    a_lattice0 = 3.16e-10    \n",
        "    ESO = 0.152 - Ef    \n",
        "    epsr = 2.5    \n",
        "    E1sa = 1.886\n",
        "    kT = 8.621738e-05 * Temp\n",
        "    a_lattice = a_lattice0\n",
        "    a0 = a0 / np.tanh(1.1 / (np.multiply(8.621738e-05,Temp)) ** 0.25)\n",
        "    # Mesh Creation\n",
        "    x,y = np.meshgrid((np.arange(-NX,NX+1)) * a_lattice / 2,((np.arange(-NX-1,NX+2))) * a_lattice * np.sqrt(3) / 2)\n",
        "    px,py = x.shape\n",
        "    xi,yi = np.meshgrid(np.arange(1,px+1),np.arange(1,py+1))\n",
        "    A = np.ones(xi.shape)\n",
        "    A[np.mod(xi + yi,2)==0]=0\n",
        "    xs = x.flatten()\n",
        "    ys = y.flatten()\n",
        "    As = A.flatten()\n",
        "    mask = np.ones(len(xs), dtype=bool)\n",
        "    mask[As == 0] = False\n",
        "    xs = xs[mask]\n",
        "    ys = ys[mask]\n",
        "    mask = np.ones(len(xs), dtype=bool)\n",
        "    mask[np.sqrt(xs ** 2 + ys ** 2) > a_lattice * NX / 2] = False    \n",
        "    xs = xs[mask]\n",
        "    ys = ys[mask]\n",
        "    \n",
        "    # Initialization\n",
        "    nj = len(xs)    \n",
        "    zeroj = np.argwhere((xs == 0) & (ys == 0))\n",
        "    # Diagonal terms\n",
        "    H = np.diag(- 2 * a0 * Ry / epsr / np.sqrt(xs ** 2 + ys ** 2)+0j)\n",
        "    # Singularity treatment\n",
        "    H[zeroj,zeroj] = - 2 * a0 * Ry / epsr / a_lattice\n",
        "    \n",
        "    # Single Particle Contributions\n",
        "    for jj in np.arange(0,nj).reshape(-1):\n",
        "        rs = np.sqrt((xs[jj] - xs) ** 2 + (ys[jj] - ys) ** 2)\n",
        "        asd = np.argwhere(rs < 1.01 * a_lattice).reshape(-1)\n",
        "        H[jj,asd] = H[jj,asd] + 2 * Ry / 3 * e_mass / m * (a0 / a_lattice) ** 2 + 1j * ESO / 9 * np.sin(4 * pi * (xs[jj] - np.transpose(xs[asd])) / 3 / a_lattice)\n",
        "    \n",
        "    H = H + 4.861 * np.eye(nj)\n",
        "    eigenvalues, eigenvectors = LA.eig(H)\n",
        "    shifted_eigs = np.real(np.unique(np.round(1000.0 * eigenvalues)) / 1000.0)\n",
        "#    print('_______________ ALL STATES ________________________')\n",
        "#    print(shifted_eigs[0:15])\n",
        "#    print('wavelengths')    \n",
        "#    print(1240.0 / shifted_eigs[0:15])\n",
        "    PHI = np.real(np.multiply(eigenvectors,np.conjugate(eigenvectors)))\n",
        "    Esa = shifted_eigs[0]\n",
        "    for ix in np.arange(1,len(PHI[:,2])):\n",
        "        xcv = np.amax(PHI[:,ix])\n",
        "        cvb =  np.where(PHI[:,ix] == xcv)\n",
        "        if cvb == zeroj:\n",
        "            Esa = np.append(Esa,np.real(eigenvalues[ix]))\n",
        "    Esa = np.sort(Esa)        \n",
        "    return Esa\n",
        "    ##########################################################################\n"
      ]
    },
    {
      "cell_type": "code",
      "source": [
        "import numpy as np    \n",
        "import matplotlib.pyplot as plt\n",
        "#\n",
        "lambdas = np.linspace(400e-9,1000e-9,100) # wavelengths\n",
        "Ef = 0.0 # Fermi-Energy (eV), e.g. Ef = 0 means undoped, no-gate voltage\n",
        "Temp = 300     # (K) temperature\n",
        "\n",
        "# get complex permittivity\n",
        "eps = getMoS2epsnk(lambdas,Ef,Temp)    \n",
        "\n",
        "plt.figure(1)\n",
        "plt.plot(lambdas*1e9,np.real(eps),label='Real')\n",
        "plt.plot(lambdas*1e9,np.imag(eps),label='Imag')\n",
        "plt.xlabel('Wavelength (nm)');\n",
        "plt.ylabel('Permittivity');\n",
        "plt.legend();    \n",
        "plt.show()\n",
        "    \n",
        "# convert permittivity to refractive index    \n",
        "n,k = eps2nk(eps)\n",
        "\n",
        "plt.figure(2)\n",
        "plt.plot(lambdas*1e9,n,label='n')\n",
        "plt.plot(lambdas*1e9,k,label='k')\n",
        "plt.xlabel('Wavelength (nm)');\n",
        "plt.ylabel('Refractive Index');\n",
        "plt.legend();    \n",
        "plt.show()\n"
      ],
      "metadata": {
        "colab": {
          "base_uri": "https://localhost:8080/",
          "height": 632
        },
        "id": "8pIhXW1_TJ63",
        "outputId": "7e381a20-fdd2-4b19-f37b-8a010da66e70"
      },
      "execution_count": 2,
      "outputs": [
        {
          "output_type": "stream",
          "name": "stderr",
          "text": [
            "/usr/local/lib/python3.7/dist-packages/ipykernel_launcher.py:133: RuntimeWarning: divide by zero encountered in true_divide\n",
            "/usr/local/lib/python3.7/dist-packages/ipykernel_launcher.py:14: DeprecationWarning: `np.complex` is a deprecated alias for the builtin `complex`. To silence this warning, use `complex` by itself. Doing this will not modify any behavior and is safe. If you specifically wanted the numpy scalar type, use `np.complex128` here.\n",
            "Deprecated in NumPy 1.20; for more details and guidance: https://numpy.org/devdocs/release/1.20.0-notes.html#deprecations\n",
            "  \n"
          ]
        },
        {
          "output_type": "display_data",
          "data": {
            "image/png": "[encoded data removed]",
            "text/plain": [
              "<Figure size 432x288 with 1 Axes>"
            ]
          },
          "metadata": {
            "needs_background": "light"
          }
        },
        {
          "output_type": "display_data",
          "data": {
            "image/png": "[encoded data removed]",
            "text/plain": [
              "<Figure size 432x288 with 1 Axes>"
            ]
          },
          "metadata": {
            "needs_background": "light"
          }
        }
      ]
    },
    {
      "cell_type": "code",
      "source": [
        ""
      ],
      "metadata": {
        "id": "9gXENxmOTOUz"
      },
      "execution_count": null,
      "outputs": []
    }
  ]
}